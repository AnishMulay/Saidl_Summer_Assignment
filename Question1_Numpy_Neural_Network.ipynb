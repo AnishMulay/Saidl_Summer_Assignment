{
 "cells": [
  {
   "cell_type": "code",
   "execution_count": 1,
   "metadata": {},
   "outputs": [],
   "source": [
    "import numpy as np"
   ]
  },
  {
   "cell_type": "code",
   "execution_count": 2,
   "metadata": {},
   "outputs": [],
   "source": [
    "#define sigmoid activation function\n",
    "def sigmoid(x):\n",
    "    return 1/(1 + np.exp(-x))"
   ]
  },
  {
   "cell_type": "code",
   "execution_count": 3,
   "metadata": {},
   "outputs": [],
   "source": [
    "#define sigmoid_prime function\n",
    "def sigmoid_prime(x):\n",
    "    return (sigmoid(x))*(1 - sigmoid(x))"
   ]
  },
  {
   "cell_type": "code",
   "execution_count": 4,
   "metadata": {},
   "outputs": [
    {
     "name": "stdout",
     "output_type": "stream",
     "text": [
      "(32, 5)\n"
     ]
    }
   ],
   "source": [
    "#input data\n",
    "data = np.array([[0, 0, 0, 0, 0], \n",
    "        [0, 0, 0, 1, 0], \n",
    "        [0, 0, 1, 0, 0],\n",
    "        [0, 0, 1, 1, 0], \n",
    "        [0, 1, 0, 0, 0], \n",
    "        [0, 1, 0, 1, 0], \n",
    "        [0, 1, 1, 0, 0],\n",
    "        [0, 1, 1, 1, 0], \n",
    "        [1, 0, 0, 0, 0], \n",
    "        [1, 0, 0, 1, 0], \n",
    "        [1, 0, 1, 0, 0],\n",
    "        [1, 0, 1, 1, 0], \n",
    "        [1, 1, 0, 0, 0], \n",
    "        [1, 1, 0, 1, 0], \n",
    "        [1, 1, 1, 0, 0],\n",
    "        [1, 1, 1, 1, 0],\n",
    "        [0, 0, 0, 0, 1], \n",
    "        [0, 0, 0, 1, 1], \n",
    "        [0, 0, 1, 0, 1],\n",
    "        [0, 0, 1, 1, 1], \n",
    "        [0, 1, 0, 0, 1], \n",
    "        [0, 1, 0, 1, 1], \n",
    "        [0, 1, 1, 0, 1],\n",
    "        [0, 1, 1, 1, 1], \n",
    "        [1, 0, 0, 0, 1], \n",
    "        [1, 0, 0, 1, 1], \n",
    "        [1, 0, 1, 0, 1],\n",
    "        [1, 0, 1, 1, 1], \n",
    "        [1, 1, 0, 0, 1], \n",
    "        [1, 1, 0, 1, 1], \n",
    "        [1, 1, 1, 0, 1],\n",
    "        [1, 1, 1, 1, 1]])\n",
    "print(data.shape)         "
   ]
  },
  {
   "cell_type": "code",
   "execution_count": 5,
   "metadata": {},
   "outputs": [
    {
     "name": "stdout",
     "output_type": "stream",
     "text": [
      "(32, 2)\n"
     ]
    }
   ],
   "source": [
    "#expected outputs\n",
    "outputs = np.array([[0, 0],\n",
    "                   [0, 1],\n",
    "                   [1, 0],\n",
    "                   [1, 1], \n",
    "                   [0, 1],\n",
    "                   [0, 0],\n",
    "                   [1, 1],\n",
    "                   [1, 0],\n",
    "                   [1, 0],\n",
    "                   [1, 1],\n",
    "                   [0, 0],\n",
    "                   [0, 1],\n",
    "                   [1, 1],\n",
    "                   [1, 0],\n",
    "                   [0, 1],\n",
    "                   [0, 0],\n",
    "                   [1, 1],\n",
    "                   [1, 0],\n",
    "                   [0, 1],\n",
    "                   [0, 0],\n",
    "                   [1, 0],\n",
    "                   [1, 1],\n",
    "                   [0, 0],\n",
    "                   [0, 1],\n",
    "                   [0, 1],\n",
    "                   [0, 0],\n",
    "                   [1, 1],\n",
    "                   [1, 0],\n",
    "                   [0, 0],\n",
    "                   [0, 1],\n",
    "                   [1, 0],\n",
    "                   [1, 1]])\n",
    "print(outputs.shape)"
   ]
  },
  {
   "cell_type": "code",
   "execution_count": 8,
   "metadata": {},
   "outputs": [],
   "source": [
    "#initialise weights for the neural network\n",
    "weights_input_1 = np.random.rand(10, 5)\n",
    "weights_1_output = np.random.rand(2, 10)"
   ]
  },
  {
   "cell_type": "code",
   "execution_count": 9,
   "metadata": {},
   "outputs": [],
   "source": [
    "#define feedforward function\n",
    "def feedforward(x):\n",
    "    x0 = np.transpose([x])\n",
    "    x1 = np.dot(weights_input_1, x0)\n",
    "    h1 = sigmoid(x1)\n",
    "    x2 = np.dot(weights_1_output, h1)\n",
    "    output = sigmoid(x2)\n",
    "    return output"
   ]
  },
  {
   "cell_type": "code",
   "execution_count": 10,
   "metadata": {},
   "outputs": [
    {
     "data": {
      "text/plain": [
       "array([[0.97630794],\n",
       "       [0.95713313]])"
      ]
     },
     "execution_count": 10,
     "metadata": {},
     "output_type": "execute_result"
    }
   ],
   "source": [
    "feedforward(np.array([0, 0, 0, 0, 1]))"
   ]
  },
  {
   "cell_type": "code",
   "execution_count": 11,
   "metadata": {},
   "outputs": [],
   "source": [
    "#define a function to update weights\n",
    "def update_weights(x, y, learnrate):\n",
    "    global weights_input_1\n",
    "    global weights_1_output\n",
    "    \n",
    "    target = np.transpose([y])\n",
    "    \n",
    "    x0 = np.transpose([x])\n",
    "    x1 = np.dot(weights_input_1, x0)\n",
    "    h1 = sigmoid(x1)\n",
    "    x2 = np.dot(weights_1_output, h1)\n",
    "    output = sigmoid(x2)\n",
    "    \n",
    "    output_t = np.transpose(output)\n",
    "    target_t = np.transpose(target)\n",
    "    array = 0.5*((output_t - target_t)**2)\n",
    "    running_error = np.sum(array)\n",
    "    \n",
    "    error = output - target\n",
    "    \n",
    "    delta = error*sigmoid_prime(x2)\n",
    "    h1_t = np.transpose(h1)\n",
    "    delta_weights_1_output = delta*h1_t\n",
    "    \n",
    "    w_1_o_t = np.transpose(weights_1_output)\n",
    "    delta_1 = np.dot(w_1_o_t, delta)\n",
    "    delta_2 = delta_1*sigmoid_prime(x1)\n",
    "    x0_t = np.transpose(x0)\n",
    "    delta_weights_input_1 = delta_2*x0_t\n",
    "    \n",
    "    weights_input_1 -= delta_weights_input_1*learnrate\n",
    "    weights_1_output -= delta_weights_1_output*learnrate\n",
    "    \n",
    "    return running_error"
   ]
  },
  {
   "cell_type": "code",
   "execution_count": 12,
   "metadata": {},
   "outputs": [
    {
     "data": {
      "text/plain": [
       "0.4959317175243802"
      ]
     },
     "execution_count": 12,
     "metadata": {},
     "output_type": "execute_result"
    }
   ],
   "source": [
    "update_weights([1, 2, 3, 4, 5], [1, 0], 0.1)"
   ]
  },
  {
   "cell_type": "code",
   "execution_count": 13,
   "metadata": {},
   "outputs": [
    {
     "name": "stdout",
     "output_type": "stream",
     "text": [
      "[[0.02020381 0.87410759 0.76688599 0.48250396 0.16053887]\n",
      " [0.90382221 0.46859616 0.5269298  0.21629468 0.12446304]\n",
      " [0.81199041 0.59598899 0.00856733 0.99470955 0.77115809]\n",
      " [0.57949508 0.27364716 0.38756831 0.48481644 0.14055607]\n",
      " [0.06133628 0.95163934 0.82947136 0.71619851 0.00733034]\n",
      " [0.40872828 0.50909442 0.97132389 0.63043197 0.02078113]\n",
      " [0.12657296 0.84704074 0.51777679 0.46378778 0.36201686]\n",
      " [0.38984645 0.34092212 0.90995938 0.05220569 0.79131919]\n",
      " [0.24609562 0.86844136 0.97427808 0.66100482 0.1435584 ]\n",
      " [0.78012995 0.24625921 0.05318587 0.73790212 0.21425958]]\n",
      "[[0.17810167 0.7364385  0.51781992 0.72106769 0.96232289 0.80314407\n",
      "  0.88020674 0.84831912 0.55209108 0.36920329]\n",
      " [0.67109061 0.91190073 0.53227868 0.57575045 0.1948903  0.59822088\n",
      "  0.24629571 0.4547333  0.39324666 0.9324308 ]]\n"
     ]
    }
   ],
   "source": [
    "print(weights_input_1)\n",
    "print(weights_1_output)"
   ]
  },
  {
   "cell_type": "code",
   "execution_count": 15,
   "metadata": {},
   "outputs": [
    {
     "name": "stdout",
     "output_type": "stream",
     "text": [
      "error :\n",
      "80.5689919676903\n",
      "error :\n",
      "15.297738832299492\n",
      "error :\n",
      "7.042070499736106\n",
      "error :\n",
      "4.1753292422805\n",
      "error :\n",
      "2.850811658594145\n",
      "error :\n",
      "2.1198077936119764\n",
      "error :\n",
      "1.6676926847668156\n",
      "error :\n",
      "1.3651557207409473\n",
      "error :\n",
      "1.1506657097211044\n",
      "error :\n",
      "0.9917295962332012\n"
     ]
    }
   ],
   "source": [
    "#training loop\n",
    "epochs = 10000\n",
    "learnrate = 0.1\n",
    "for e in range(epochs):\n",
    "    error1 = 0\n",
    "    for x, y in zip(data, outputs):\n",
    "        running_error = update_weights(x, y, learnrate)\n",
    "        error1 += running_error\n",
    "    if e%1000 == 0:\n",
    "        print(\"error :\")\n",
    "        print(error1*100)\n",
    "        "
   ]
  },
  {
   "cell_type": "code",
   "execution_count": 16,
   "metadata": {},
   "outputs": [
    {
     "data": {
      "text/plain": [
       "array([[0.98321563],\n",
       "       [0.99136338]])"
      ]
     },
     "execution_count": 16,
     "metadata": {},
     "output_type": "execute_result"
    }
   ],
   "source": [
    "feedforward(np.array([1, 0, 0, 1, 0]))"
   ]
  },
  {
   "cell_type": "code",
   "execution_count": null,
   "metadata": {},
   "outputs": [],
   "source": []
  }
 ],
 "metadata": {
  "kernelspec": {
   "display_name": "Python 3",
   "language": "python",
   "name": "python3"
  },
  "language_info": {
   "codemirror_mode": {
    "name": "ipython",
    "version": 3
   },
   "file_extension": ".py",
   "mimetype": "text/x-python",
   "name": "python",
   "nbconvert_exporter": "python",
   "pygments_lexer": "ipython3",
   "version": "3.7.3"
  }
 },
 "nbformat": 4,
 "nbformat_minor": 2
}
